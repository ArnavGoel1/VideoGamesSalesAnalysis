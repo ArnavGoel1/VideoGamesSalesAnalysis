{
  "nbformat": 4,
  "nbformat_minor": 0,
  "metadata": {
    "colab": {
      "provenance": []
    },
    "kernelspec": {
      "name": "python3",
      "display_name": "Python 3"
    },
    "language_info": {
      "name": "python"
    },
    "accelerator": "GPU",
    "gpuClass": "standard"
  },
  "cells": [
    {
      "cell_type": "code",
      "execution_count": 1,
      "metadata": {
        "id": "ZXkD-Td5ZVBI"
      },
      "outputs": [],
      "source": [
        "import numpy as np\n",
        "import pandas as pd\n",
        "from sklearn.preprocessing import StandardScaler, OneHotEncoder\n",
        "from sklearn.compose import ColumnTransformer\n",
        "from sklearn.linear_model import LinearRegression, LogisticRegression\n",
        "from sklearn import preprocessing, svm\n",
        "from sklearn.model_selection import train_test_split,GridSearchCV\n",
        "from sklearn.metrics import accuracy_score, classification_report\n",
        "\n",
        "from sklearn.naive_bayes import GaussianNB\n",
        "from sklearn.neighbors import KNeighborsClassifier\n",
        "from sklearn.svm import SVC, SVR\n",
        "from sklearn.ensemble import RandomForestClassifier, RandomForestRegressor\n",
        "from sklearn.linear_model import Ridge, Lasso\n",
        "import tensorflow as tf\n",
        "from tensorflow.keras.models import Sequential\n",
        "from tensorflow.keras.layers import Dense, Dropout\n"
      ]
    },
    {
      "cell_type": "code",
      "source": [
        "data = pd.read_csv(\"/content/cleaned_vgames_data.csv\")\n",
        "data.head()"
      ],
      "metadata": {
        "id": "fLE8PAqJjWzo",
        "colab": {
          "base_uri": "https://localhost:8080/",
          "height": 365
        },
        "outputId": "8a2c8e60-8a27-42d2-f995-2c66e5ebc978"
      },
      "execution_count": 2,
      "outputs": [
        {
          "output_type": "execute_result",
          "data": {
            "text/plain": [
              "                       Name Platform  Year_of_Release         Genre Publisher  \\\n",
              "0                Wii Sports      Wii             2006        Sports  Nintendo   \n",
              "1         Super Mario Bros.      NES             1985      Platform  Nintendo   \n",
              "2            Mario Kart Wii      Wii             2008        Racing  Nintendo   \n",
              "3         Wii Sports Resort      Wii             2009        Sports  Nintendo   \n",
              "4  Pokemon Red/Pokemon Blue       GB             1996  Role-Playing  Nintendo   \n",
              "\n",
              "   NA_Sales  EU_Sales  JP_Sales  Other_Sales  Global_Sales  ...  \\\n",
              "0     41.36     28.96      3.77         8.45         82.53  ...   \n",
              "1     29.08      3.58      6.81         0.77         40.24  ...   \n",
              "2     15.68     12.76      3.79         3.29         35.52  ...   \n",
              "3     15.61     10.93      3.28         2.95         32.77  ...   \n",
              "4     11.27      8.89     10.22         1.00         31.37  ...   \n",
              "\n",
              "   Other_Sales_Ratio  Score_Difference  Total_Score  Game_Age  \\\n",
              "0           0.102387         -4.000000    77.600000        17   \n",
              "1           0.019135         -2.282783    69.880792        38   \n",
              "2           0.092624         -1.000000    82.400000        15   \n",
              "3           0.090021          0.000000    80.000000        14   \n",
              "4           0.031878         -2.282783    69.880792        27   \n",
              "\n",
              "  Platform_Publisher Score_Percentage_Difference  Normalized_Critic_Score  \\\n",
              "0       Wii_Nintendo                   -5.263158                 0.741176   \n",
              "1       NES_Nintendo                   -3.309931                 0.658443   \n",
              "2       Wii_Nintendo                   -1.219512                 0.811765   \n",
              "3       Wii_Nintendo                    0.000000                 0.788235   \n",
              "4        GB_Nintendo                   -3.309931                 0.658443   \n",
              "\n",
              "   Normalized_User_Score  Sales_Critic_Score_Ratio  Sales_User_Score_Ratio  \n",
              "0               0.824742                  1.085921                1.031625  \n",
              "1               0.734541                  0.583462                0.564768  \n",
              "2               0.855670                  0.433171                0.427952  \n",
              "3               0.824742                  0.409625                0.409625  \n",
              "4               0.734541                  0.454851                0.440278  \n",
              "\n",
              "[5 rows x 30 columns]"
            ],
            "text/html": [
              "\n",
              "  <div id=\"df-9f87562f-c413-4ed5-bf49-43c02c0e6c36\">\n",
              "    <div class=\"colab-df-container\">\n",
              "      <div>\n",
              "<style scoped>\n",
              "    .dataframe tbody tr th:only-of-type {\n",
              "        vertical-align: middle;\n",
              "    }\n",
              "\n",
              "    .dataframe tbody tr th {\n",
              "        vertical-align: top;\n",
              "    }\n",
              "\n",
              "    .dataframe thead th {\n",
              "        text-align: right;\n",
              "    }\n",
              "</style>\n",
              "<table border=\"1\" class=\"dataframe\">\n",
              "  <thead>\n",
              "    <tr style=\"text-align: right;\">\n",
              "      <th></th>\n",
              "      <th>Name</th>\n",
              "      <th>Platform</th>\n",
              "      <th>Year_of_Release</th>\n",
              "      <th>Genre</th>\n",
              "      <th>Publisher</th>\n",
              "      <th>NA_Sales</th>\n",
              "      <th>EU_Sales</th>\n",
              "      <th>JP_Sales</th>\n",
              "      <th>Other_Sales</th>\n",
              "      <th>Global_Sales</th>\n",
              "      <th>...</th>\n",
              "      <th>Other_Sales_Ratio</th>\n",
              "      <th>Score_Difference</th>\n",
              "      <th>Total_Score</th>\n",
              "      <th>Game_Age</th>\n",
              "      <th>Platform_Publisher</th>\n",
              "      <th>Score_Percentage_Difference</th>\n",
              "      <th>Normalized_Critic_Score</th>\n",
              "      <th>Normalized_User_Score</th>\n",
              "      <th>Sales_Critic_Score_Ratio</th>\n",
              "      <th>Sales_User_Score_Ratio</th>\n",
              "    </tr>\n",
              "  </thead>\n",
              "  <tbody>\n",
              "    <tr>\n",
              "      <th>0</th>\n",
              "      <td>Wii Sports</td>\n",
              "      <td>Wii</td>\n",
              "      <td>2006</td>\n",
              "      <td>Sports</td>\n",
              "      <td>Nintendo</td>\n",
              "      <td>41.36</td>\n",
              "      <td>28.96</td>\n",
              "      <td>3.77</td>\n",
              "      <td>8.45</td>\n",
              "      <td>82.53</td>\n",
              "      <td>...</td>\n",
              "      <td>0.102387</td>\n",
              "      <td>-4.000000</td>\n",
              "      <td>77.600000</td>\n",
              "      <td>17</td>\n",
              "      <td>Wii_Nintendo</td>\n",
              "      <td>-5.263158</td>\n",
              "      <td>0.741176</td>\n",
              "      <td>0.824742</td>\n",
              "      <td>1.085921</td>\n",
              "      <td>1.031625</td>\n",
              "    </tr>\n",
              "    <tr>\n",
              "      <th>1</th>\n",
              "      <td>Super Mario Bros.</td>\n",
              "      <td>NES</td>\n",
              "      <td>1985</td>\n",
              "      <td>Platform</td>\n",
              "      <td>Nintendo</td>\n",
              "      <td>29.08</td>\n",
              "      <td>3.58</td>\n",
              "      <td>6.81</td>\n",
              "      <td>0.77</td>\n",
              "      <td>40.24</td>\n",
              "      <td>...</td>\n",
              "      <td>0.019135</td>\n",
              "      <td>-2.282783</td>\n",
              "      <td>69.880792</td>\n",
              "      <td>38</td>\n",
              "      <td>NES_Nintendo</td>\n",
              "      <td>-3.309931</td>\n",
              "      <td>0.658443</td>\n",
              "      <td>0.734541</td>\n",
              "      <td>0.583462</td>\n",
              "      <td>0.564768</td>\n",
              "    </tr>\n",
              "    <tr>\n",
              "      <th>2</th>\n",
              "      <td>Mario Kart Wii</td>\n",
              "      <td>Wii</td>\n",
              "      <td>2008</td>\n",
              "      <td>Racing</td>\n",
              "      <td>Nintendo</td>\n",
              "      <td>15.68</td>\n",
              "      <td>12.76</td>\n",
              "      <td>3.79</td>\n",
              "      <td>3.29</td>\n",
              "      <td>35.52</td>\n",
              "      <td>...</td>\n",
              "      <td>0.092624</td>\n",
              "      <td>-1.000000</td>\n",
              "      <td>82.400000</td>\n",
              "      <td>15</td>\n",
              "      <td>Wii_Nintendo</td>\n",
              "      <td>-1.219512</td>\n",
              "      <td>0.811765</td>\n",
              "      <td>0.855670</td>\n",
              "      <td>0.433171</td>\n",
              "      <td>0.427952</td>\n",
              "    </tr>\n",
              "    <tr>\n",
              "      <th>3</th>\n",
              "      <td>Wii Sports Resort</td>\n",
              "      <td>Wii</td>\n",
              "      <td>2009</td>\n",
              "      <td>Sports</td>\n",
              "      <td>Nintendo</td>\n",
              "      <td>15.61</td>\n",
              "      <td>10.93</td>\n",
              "      <td>3.28</td>\n",
              "      <td>2.95</td>\n",
              "      <td>32.77</td>\n",
              "      <td>...</td>\n",
              "      <td>0.090021</td>\n",
              "      <td>0.000000</td>\n",
              "      <td>80.000000</td>\n",
              "      <td>14</td>\n",
              "      <td>Wii_Nintendo</td>\n",
              "      <td>0.000000</td>\n",
              "      <td>0.788235</td>\n",
              "      <td>0.824742</td>\n",
              "      <td>0.409625</td>\n",
              "      <td>0.409625</td>\n",
              "    </tr>\n",
              "    <tr>\n",
              "      <th>4</th>\n",
              "      <td>Pokemon Red/Pokemon Blue</td>\n",
              "      <td>GB</td>\n",
              "      <td>1996</td>\n",
              "      <td>Role-Playing</td>\n",
              "      <td>Nintendo</td>\n",
              "      <td>11.27</td>\n",
              "      <td>8.89</td>\n",
              "      <td>10.22</td>\n",
              "      <td>1.00</td>\n",
              "      <td>31.37</td>\n",
              "      <td>...</td>\n",
              "      <td>0.031878</td>\n",
              "      <td>-2.282783</td>\n",
              "      <td>69.880792</td>\n",
              "      <td>27</td>\n",
              "      <td>GB_Nintendo</td>\n",
              "      <td>-3.309931</td>\n",
              "      <td>0.658443</td>\n",
              "      <td>0.734541</td>\n",
              "      <td>0.454851</td>\n",
              "      <td>0.440278</td>\n",
              "    </tr>\n",
              "  </tbody>\n",
              "</table>\n",
              "<p>5 rows × 30 columns</p>\n",
              "</div>\n",
              "      <button class=\"colab-df-convert\" onclick=\"convertToInteractive('df-9f87562f-c413-4ed5-bf49-43c02c0e6c36')\"\n",
              "              title=\"Convert this dataframe to an interactive table.\"\n",
              "              style=\"display:none;\">\n",
              "        \n",
              "  <svg xmlns=\"http://www.w3.org/2000/svg\" height=\"24px\"viewBox=\"0 0 24 24\"\n",
              "       width=\"24px\">\n",
              "    <path d=\"M0 0h24v24H0V0z\" fill=\"none\"/>\n",
              "    <path d=\"M18.56 5.44l.94 2.06.94-2.06 2.06-.94-2.06-.94-.94-2.06-.94 2.06-2.06.94zm-11 1L8.5 8.5l.94-2.06 2.06-.94-2.06-.94L8.5 2.5l-.94 2.06-2.06.94zm10 10l.94 2.06.94-2.06 2.06-.94-2.06-.94-.94-2.06-.94 2.06-2.06.94z\"/><path d=\"M17.41 7.96l-1.37-1.37c-.4-.4-.92-.59-1.43-.59-.52 0-1.04.2-1.43.59L10.3 9.45l-7.72 7.72c-.78.78-.78 2.05 0 2.83L4 21.41c.39.39.9.59 1.41.59.51 0 1.02-.2 1.41-.59l7.78-7.78 2.81-2.81c.8-.78.8-2.07 0-2.86zM5.41 20L4 18.59l7.72-7.72 1.47 1.35L5.41 20z\"/>\n",
              "  </svg>\n",
              "      </button>\n",
              "      \n",
              "  <style>\n",
              "    .colab-df-container {\n",
              "      display:flex;\n",
              "      flex-wrap:wrap;\n",
              "      gap: 12px;\n",
              "    }\n",
              "\n",
              "    .colab-df-convert {\n",
              "      background-color: #E8F0FE;\n",
              "      border: none;\n",
              "      border-radius: 50%;\n",
              "      cursor: pointer;\n",
              "      display: none;\n",
              "      fill: #1967D2;\n",
              "      height: 32px;\n",
              "      padding: 0 0 0 0;\n",
              "      width: 32px;\n",
              "    }\n",
              "\n",
              "    .colab-df-convert:hover {\n",
              "      background-color: #E2EBFA;\n",
              "      box-shadow: 0px 1px 2px rgba(60, 64, 67, 0.3), 0px 1px 3px 1px rgba(60, 64, 67, 0.15);\n",
              "      fill: #174EA6;\n",
              "    }\n",
              "\n",
              "    [theme=dark] .colab-df-convert {\n",
              "      background-color: #3B4455;\n",
              "      fill: #D2E3FC;\n",
              "    }\n",
              "\n",
              "    [theme=dark] .colab-df-convert:hover {\n",
              "      background-color: #434B5C;\n",
              "      box-shadow: 0px 1px 3px 1px rgba(0, 0, 0, 0.15);\n",
              "      filter: drop-shadow(0px 1px 2px rgba(0, 0, 0, 0.3));\n",
              "      fill: #FFFFFF;\n",
              "    }\n",
              "  </style>\n",
              "\n",
              "      <script>\n",
              "        const buttonEl =\n",
              "          document.querySelector('#df-9f87562f-c413-4ed5-bf49-43c02c0e6c36 button.colab-df-convert');\n",
              "        buttonEl.style.display =\n",
              "          google.colab.kernel.accessAllowed ? 'block' : 'none';\n",
              "\n",
              "        async function convertToInteractive(key) {\n",
              "          const element = document.querySelector('#df-9f87562f-c413-4ed5-bf49-43c02c0e6c36');\n",
              "          const dataTable =\n",
              "            await google.colab.kernel.invokeFunction('convertToInteractive',\n",
              "                                                     [key], {});\n",
              "          if (!dataTable) return;\n",
              "\n",
              "          const docLinkHtml = 'Like what you see? Visit the ' +\n",
              "            '<a target=\"_blank\" href=https://colab.research.google.com/notebooks/data_table.ipynb>data table notebook</a>'\n",
              "            + ' to learn more about interactive tables.';\n",
              "          element.innerHTML = '';\n",
              "          dataTable['output_type'] = 'display_data';\n",
              "          await google.colab.output.renderOutput(dataTable, element);\n",
              "          const docLink = document.createElement('div');\n",
              "          docLink.innerHTML = docLinkHtml;\n",
              "          element.appendChild(docLink);\n",
              "        }\n",
              "      </script>\n",
              "    </div>\n",
              "  </div>\n",
              "  "
            ]
          },
          "metadata": {},
          "execution_count": 2
        }
      ]
    },
    {
      "cell_type": "code",
      "source": [
        "data.Global_Sales.describe()"
      ],
      "metadata": {
        "colab": {
          "base_uri": "https://localhost:8080/"
        },
        "id": "ikWWd0LEO8Wc",
        "outputId": "0df5f115-ca87-4d21-f4dd-cd97f5a0c808"
      },
      "execution_count": 3,
      "outputs": [
        {
          "output_type": "execute_result",
          "data": {
            "text/plain": [
              "count    16719.000000\n",
              "mean         0.533543\n",
              "std          1.547935\n",
              "min          0.010000\n",
              "25%          0.060000\n",
              "50%          0.170000\n",
              "75%          0.470000\n",
              "max         82.530000\n",
              "Name: Global_Sales, dtype: float64"
            ]
          },
          "metadata": {},
          "execution_count": 3
        }
      ]
    },
    {
      "cell_type": "code",
      "source": [
        "data['Successful'] = data['Global_Sales'] > 1\n",
        "data.head()"
      ],
      "metadata": {
        "id": "58Yn1aFAjW2V",
        "colab": {
          "base_uri": "https://localhost:8080/",
          "height": 365
        },
        "outputId": "a6ee2393-ae2a-4b20-a2e7-6431bc8ca9ac"
      },
      "execution_count": 4,
      "outputs": [
        {
          "output_type": "execute_result",
          "data": {
            "text/plain": [
              "                       Name Platform  Year_of_Release         Genre Publisher  \\\n",
              "0                Wii Sports      Wii             2006        Sports  Nintendo   \n",
              "1         Super Mario Bros.      NES             1985      Platform  Nintendo   \n",
              "2            Mario Kart Wii      Wii             2008        Racing  Nintendo   \n",
              "3         Wii Sports Resort      Wii             2009        Sports  Nintendo   \n",
              "4  Pokemon Red/Pokemon Blue       GB             1996  Role-Playing  Nintendo   \n",
              "\n",
              "   NA_Sales  EU_Sales  JP_Sales  Other_Sales  Global_Sales  ...  \\\n",
              "0     41.36     28.96      3.77         8.45         82.53  ...   \n",
              "1     29.08      3.58      6.81         0.77         40.24  ...   \n",
              "2     15.68     12.76      3.79         3.29         35.52  ...   \n",
              "3     15.61     10.93      3.28         2.95         32.77  ...   \n",
              "4     11.27      8.89     10.22         1.00         31.37  ...   \n",
              "\n",
              "   Score_Difference  Total_Score  Game_Age  Platform_Publisher  \\\n",
              "0         -4.000000    77.600000        17        Wii_Nintendo   \n",
              "1         -2.282783    69.880792        38        NES_Nintendo   \n",
              "2         -1.000000    82.400000        15        Wii_Nintendo   \n",
              "3          0.000000    80.000000        14        Wii_Nintendo   \n",
              "4         -2.282783    69.880792        27         GB_Nintendo   \n",
              "\n",
              "  Score_Percentage_Difference Normalized_Critic_Score  Normalized_User_Score  \\\n",
              "0                   -5.263158                0.741176               0.824742   \n",
              "1                   -3.309931                0.658443               0.734541   \n",
              "2                   -1.219512                0.811765               0.855670   \n",
              "3                    0.000000                0.788235               0.824742   \n",
              "4                   -3.309931                0.658443               0.734541   \n",
              "\n",
              "   Sales_Critic_Score_Ratio  Sales_User_Score_Ratio  Successful  \n",
              "0                  1.085921                1.031625        True  \n",
              "1                  0.583462                0.564768        True  \n",
              "2                  0.433171                0.427952        True  \n",
              "3                  0.409625                0.409625        True  \n",
              "4                  0.454851                0.440278        True  \n",
              "\n",
              "[5 rows x 31 columns]"
            ],
            "text/html": [
              "\n",
              "  <div id=\"df-0ed3ef29-245b-4e68-aae8-b1b51d29d4e4\">\n",
              "    <div class=\"colab-df-container\">\n",
              "      <div>\n",
              "<style scoped>\n",
              "    .dataframe tbody tr th:only-of-type {\n",
              "        vertical-align: middle;\n",
              "    }\n",
              "\n",
              "    .dataframe tbody tr th {\n",
              "        vertical-align: top;\n",
              "    }\n",
              "\n",
              "    .dataframe thead th {\n",
              "        text-align: right;\n",
              "    }\n",
              "</style>\n",
              "<table border=\"1\" class=\"dataframe\">\n",
              "  <thead>\n",
              "    <tr style=\"text-align: right;\">\n",
              "      <th></th>\n",
              "      <th>Name</th>\n",
              "      <th>Platform</th>\n",
              "      <th>Year_of_Release</th>\n",
              "      <th>Genre</th>\n",
              "      <th>Publisher</th>\n",
              "      <th>NA_Sales</th>\n",
              "      <th>EU_Sales</th>\n",
              "      <th>JP_Sales</th>\n",
              "      <th>Other_Sales</th>\n",
              "      <th>Global_Sales</th>\n",
              "      <th>...</th>\n",
              "      <th>Score_Difference</th>\n",
              "      <th>Total_Score</th>\n",
              "      <th>Game_Age</th>\n",
              "      <th>Platform_Publisher</th>\n",
              "      <th>Score_Percentage_Difference</th>\n",
              "      <th>Normalized_Critic_Score</th>\n",
              "      <th>Normalized_User_Score</th>\n",
              "      <th>Sales_Critic_Score_Ratio</th>\n",
              "      <th>Sales_User_Score_Ratio</th>\n",
              "      <th>Successful</th>\n",
              "    </tr>\n",
              "  </thead>\n",
              "  <tbody>\n",
              "    <tr>\n",
              "      <th>0</th>\n",
              "      <td>Wii Sports</td>\n",
              "      <td>Wii</td>\n",
              "      <td>2006</td>\n",
              "      <td>Sports</td>\n",
              "      <td>Nintendo</td>\n",
              "      <td>41.36</td>\n",
              "      <td>28.96</td>\n",
              "      <td>3.77</td>\n",
              "      <td>8.45</td>\n",
              "      <td>82.53</td>\n",
              "      <td>...</td>\n",
              "      <td>-4.000000</td>\n",
              "      <td>77.600000</td>\n",
              "      <td>17</td>\n",
              "      <td>Wii_Nintendo</td>\n",
              "      <td>-5.263158</td>\n",
              "      <td>0.741176</td>\n",
              "      <td>0.824742</td>\n",
              "      <td>1.085921</td>\n",
              "      <td>1.031625</td>\n",
              "      <td>True</td>\n",
              "    </tr>\n",
              "    <tr>\n",
              "      <th>1</th>\n",
              "      <td>Super Mario Bros.</td>\n",
              "      <td>NES</td>\n",
              "      <td>1985</td>\n",
              "      <td>Platform</td>\n",
              "      <td>Nintendo</td>\n",
              "      <td>29.08</td>\n",
              "      <td>3.58</td>\n",
              "      <td>6.81</td>\n",
              "      <td>0.77</td>\n",
              "      <td>40.24</td>\n",
              "      <td>...</td>\n",
              "      <td>-2.282783</td>\n",
              "      <td>69.880792</td>\n",
              "      <td>38</td>\n",
              "      <td>NES_Nintendo</td>\n",
              "      <td>-3.309931</td>\n",
              "      <td>0.658443</td>\n",
              "      <td>0.734541</td>\n",
              "      <td>0.583462</td>\n",
              "      <td>0.564768</td>\n",
              "      <td>True</td>\n",
              "    </tr>\n",
              "    <tr>\n",
              "      <th>2</th>\n",
              "      <td>Mario Kart Wii</td>\n",
              "      <td>Wii</td>\n",
              "      <td>2008</td>\n",
              "      <td>Racing</td>\n",
              "      <td>Nintendo</td>\n",
              "      <td>15.68</td>\n",
              "      <td>12.76</td>\n",
              "      <td>3.79</td>\n",
              "      <td>3.29</td>\n",
              "      <td>35.52</td>\n",
              "      <td>...</td>\n",
              "      <td>-1.000000</td>\n",
              "      <td>82.400000</td>\n",
              "      <td>15</td>\n",
              "      <td>Wii_Nintendo</td>\n",
              "      <td>-1.219512</td>\n",
              "      <td>0.811765</td>\n",
              "      <td>0.855670</td>\n",
              "      <td>0.433171</td>\n",
              "      <td>0.427952</td>\n",
              "      <td>True</td>\n",
              "    </tr>\n",
              "    <tr>\n",
              "      <th>3</th>\n",
              "      <td>Wii Sports Resort</td>\n",
              "      <td>Wii</td>\n",
              "      <td>2009</td>\n",
              "      <td>Sports</td>\n",
              "      <td>Nintendo</td>\n",
              "      <td>15.61</td>\n",
              "      <td>10.93</td>\n",
              "      <td>3.28</td>\n",
              "      <td>2.95</td>\n",
              "      <td>32.77</td>\n",
              "      <td>...</td>\n",
              "      <td>0.000000</td>\n",
              "      <td>80.000000</td>\n",
              "      <td>14</td>\n",
              "      <td>Wii_Nintendo</td>\n",
              "      <td>0.000000</td>\n",
              "      <td>0.788235</td>\n",
              "      <td>0.824742</td>\n",
              "      <td>0.409625</td>\n",
              "      <td>0.409625</td>\n",
              "      <td>True</td>\n",
              "    </tr>\n",
              "    <tr>\n",
              "      <th>4</th>\n",
              "      <td>Pokemon Red/Pokemon Blue</td>\n",
              "      <td>GB</td>\n",
              "      <td>1996</td>\n",
              "      <td>Role-Playing</td>\n",
              "      <td>Nintendo</td>\n",
              "      <td>11.27</td>\n",
              "      <td>8.89</td>\n",
              "      <td>10.22</td>\n",
              "      <td>1.00</td>\n",
              "      <td>31.37</td>\n",
              "      <td>...</td>\n",
              "      <td>-2.282783</td>\n",
              "      <td>69.880792</td>\n",
              "      <td>27</td>\n",
              "      <td>GB_Nintendo</td>\n",
              "      <td>-3.309931</td>\n",
              "      <td>0.658443</td>\n",
              "      <td>0.734541</td>\n",
              "      <td>0.454851</td>\n",
              "      <td>0.440278</td>\n",
              "      <td>True</td>\n",
              "    </tr>\n",
              "  </tbody>\n",
              "</table>\n",
              "<p>5 rows × 31 columns</p>\n",
              "</div>\n",
              "      <button class=\"colab-df-convert\" onclick=\"convertToInteractive('df-0ed3ef29-245b-4e68-aae8-b1b51d29d4e4')\"\n",
              "              title=\"Convert this dataframe to an interactive table.\"\n",
              "              style=\"display:none;\">\n",
              "        \n",
              "  <svg xmlns=\"http://www.w3.org/2000/svg\" height=\"24px\"viewBox=\"0 0 24 24\"\n",
              "       width=\"24px\">\n",
              "    <path d=\"M0 0h24v24H0V0z\" fill=\"none\"/>\n",
              "    <path d=\"M18.56 5.44l.94 2.06.94-2.06 2.06-.94-2.06-.94-.94-2.06-.94 2.06-2.06.94zm-11 1L8.5 8.5l.94-2.06 2.06-.94-2.06-.94L8.5 2.5l-.94 2.06-2.06.94zm10 10l.94 2.06.94-2.06 2.06-.94-2.06-.94-.94-2.06-.94 2.06-2.06.94z\"/><path d=\"M17.41 7.96l-1.37-1.37c-.4-.4-.92-.59-1.43-.59-.52 0-1.04.2-1.43.59L10.3 9.45l-7.72 7.72c-.78.78-.78 2.05 0 2.83L4 21.41c.39.39.9.59 1.41.59.51 0 1.02-.2 1.41-.59l7.78-7.78 2.81-2.81c.8-.78.8-2.07 0-2.86zM5.41 20L4 18.59l7.72-7.72 1.47 1.35L5.41 20z\"/>\n",
              "  </svg>\n",
              "      </button>\n",
              "      \n",
              "  <style>\n",
              "    .colab-df-container {\n",
              "      display:flex;\n",
              "      flex-wrap:wrap;\n",
              "      gap: 12px;\n",
              "    }\n",
              "\n",
              "    .colab-df-convert {\n",
              "      background-color: #E8F0FE;\n",
              "      border: none;\n",
              "      border-radius: 50%;\n",
              "      cursor: pointer;\n",
              "      display: none;\n",
              "      fill: #1967D2;\n",
              "      height: 32px;\n",
              "      padding: 0 0 0 0;\n",
              "      width: 32px;\n",
              "    }\n",
              "\n",
              "    .colab-df-convert:hover {\n",
              "      background-color: #E2EBFA;\n",
              "      box-shadow: 0px 1px 2px rgba(60, 64, 67, 0.3), 0px 1px 3px 1px rgba(60, 64, 67, 0.15);\n",
              "      fill: #174EA6;\n",
              "    }\n",
              "\n",
              "    [theme=dark] .colab-df-convert {\n",
              "      background-color: #3B4455;\n",
              "      fill: #D2E3FC;\n",
              "    }\n",
              "\n",
              "    [theme=dark] .colab-df-convert:hover {\n",
              "      background-color: #434B5C;\n",
              "      box-shadow: 0px 1px 3px 1px rgba(0, 0, 0, 0.15);\n",
              "      filter: drop-shadow(0px 1px 2px rgba(0, 0, 0, 0.3));\n",
              "      fill: #FFFFFF;\n",
              "    }\n",
              "  </style>\n",
              "\n",
              "      <script>\n",
              "        const buttonEl =\n",
              "          document.querySelector('#df-0ed3ef29-245b-4e68-aae8-b1b51d29d4e4 button.colab-df-convert');\n",
              "        buttonEl.style.display =\n",
              "          google.colab.kernel.accessAllowed ? 'block' : 'none';\n",
              "\n",
              "        async function convertToInteractive(key) {\n",
              "          const element = document.querySelector('#df-0ed3ef29-245b-4e68-aae8-b1b51d29d4e4');\n",
              "          const dataTable =\n",
              "            await google.colab.kernel.invokeFunction('convertToInteractive',\n",
              "                                                     [key], {});\n",
              "          if (!dataTable) return;\n",
              "\n",
              "          const docLinkHtml = 'Like what you see? Visit the ' +\n",
              "            '<a target=\"_blank\" href=https://colab.research.google.com/notebooks/data_table.ipynb>data table notebook</a>'\n",
              "            + ' to learn more about interactive tables.';\n",
              "          element.innerHTML = '';\n",
              "          dataTable['output_type'] = 'display_data';\n",
              "          await google.colab.output.renderOutput(dataTable, element);\n",
              "          const docLink = document.createElement('div');\n",
              "          docLink.innerHTML = docLinkHtml;\n",
              "          element.appendChild(docLink);\n",
              "        }\n",
              "      </script>\n",
              "    </div>\n",
              "  </div>\n",
              "  "
            ]
          },
          "metadata": {},
          "execution_count": 4
        }
      ]
    },
    {
      "cell_type": "code",
      "source": [
        "X = data.drop(['Name', 'Global_Sales', 'Successful'], axis=1)\n",
        "y_regression = data['Global_Sales']\n",
        "y_classification = data['Successful']"
      ],
      "metadata": {
        "id": "H9mCUzBHjW5N"
      },
      "execution_count": 5,
      "outputs": []
    },
    {
      "cell_type": "code",
      "source": [
        "X = X.fillna(X.mean())\n"
      ],
      "metadata": {
        "colab": {
          "base_uri": "https://localhost:8080/"
        },
        "id": "MeluSUJzkQup",
        "outputId": "fcbb0e67-e39e-49f1-80c5-023d9ee39d25"
      },
      "execution_count": 6,
      "outputs": [
        {
          "output_type": "stream",
          "name": "stderr",
          "text": [
            "<ipython-input-6-b1ca852a1154>:1: FutureWarning: Dropping of nuisance columns in DataFrame reductions (with 'numeric_only=None') is deprecated; in a future version this will raise TypeError.  Select only valid columns before calling the reduction.\n",
            "  X = X.fillna(X.mean())\n"
          ]
        }
      ]
    },
    {
      "cell_type": "code",
      "source": [
        "print(\"Number of infinite values:\", (X == float('inf')).sum().sum())\n"
      ],
      "metadata": {
        "colab": {
          "base_uri": "https://localhost:8080/"
        },
        "id": "OvqFLi_8kTJv",
        "outputId": "ba13ed66-9e24-4aaf-a030-6b6a9114bbdf"
      },
      "execution_count": 7,
      "outputs": [
        {
          "output_type": "stream",
          "name": "stdout",
          "text": [
            "Number of infinite values: 1\n"
          ]
        }
      ]
    },
    {
      "cell_type": "code",
      "source": [
        "X = X.replace([float('inf'), float('-inf')], pd.NA)\n",
        "X = X.fillna(X.max())\n"
      ],
      "metadata": {
        "id": "GIIfdLtUkTMb"
      },
      "execution_count": 8,
      "outputs": []
    },
    {
      "cell_type": "markdown",
      "source": [
        "### Performing Operations on Categorical Features"
      ],
      "metadata": {
        "id": "_kI5nPOwN-nh"
      }
    },
    {
      "cell_type": "code",
      "source": [
        "categorical_features = ['Platform', 'Genre', 'Publisher', 'Developer', 'Rating', 'Platform_Publisher']\n",
        "numerical_features = list(X.drop(categorical_features, axis=1).columns)\n",
        "\n",
        "preprocessor = ColumnTransformer(\n",
        "    transformers=[('num', StandardScaler(), numerical_features),\n",
        "                  ('cat', OneHotEncoder(handle_unknown='ignore'), categorical_features)])\n",
        "\n",
        "X_processed = preprocessor.fit_transform(X)\n"
      ],
      "metadata": {
        "id": "QtcfB0SMjW79"
      },
      "execution_count": 9,
      "outputs": []
    },
    {
      "cell_type": "markdown",
      "source": [
        "### Splitting Data into Train and Test according to use case"
      ],
      "metadata": {
        "id": "yWNtaYo9OCKF"
      }
    },
    {
      "cell_type": "code",
      "source": [
        "from sklearn.model_selection import train_test_split\n",
        "\n",
        "X_train, X_test, y_regression_train, y_regression_test, y_classification_train, y_classification_test = train_test_split(X_processed, y_regression, y_classification, test_size=0.2, random_state=42)"
      ],
      "metadata": {
        "id": "h2m8RQavjW-t"
      },
      "execution_count": 10,
      "outputs": []
    },
    {
      "cell_type": "markdown",
      "source": [
        "## Model Building for Regression Task"
      ],
      "metadata": {
        "id": "RFfJeMkLN4er"
      }
    },
    {
      "cell_type": "code",
      "source": [
        "# Regression Models\n",
        "\n",
        "# Linear Regression\n",
        "regression_model = LinearRegression()\n",
        "regression_model.fit(X_train, y_regression_train)\n",
        "\n",
        "# Ridge Regression\n",
        "ridge_model = Ridge()\n",
        "ridge_model.fit(X_train, y_regression_train)\n",
        "\n",
        "# Lasso Regression\n",
        "lasso_model = Lasso()\n",
        "lasso_model.fit(X_train, y_regression_train)\n",
        "\n",
        "# Support Vector Regression\n",
        "svr_model = SVR()\n",
        "svr_model.fit(X_train, y_regression_train)\n",
        "\n",
        "# Random Forest Regression\n",
        "rf_regression_model = RandomForestRegressor()\n",
        "rf_regression_model.fit(X_train, y_regression_train)"
      ],
      "metadata": {
        "id": "f8ZrKQ__pd9j",
        "colab": {
          "base_uri": "https://localhost:8080/",
          "height": 74
        },
        "outputId": "5d54a208-3171-4e2f-8cef-ec7e6388e55f"
      },
      "execution_count": 11,
      "outputs": [
        {
          "output_type": "execute_result",
          "data": {
            "text/plain": [
              "RandomForestRegressor()"
            ],
            "text/html": [
              "<style>#sk-container-id-1 {color: black;background-color: white;}#sk-container-id-1 pre{padding: 0;}#sk-container-id-1 div.sk-toggleable {background-color: white;}#sk-container-id-1 label.sk-toggleable__label {cursor: pointer;display: block;width: 100%;margin-bottom: 0;padding: 0.3em;box-sizing: border-box;text-align: center;}#sk-container-id-1 label.sk-toggleable__label-arrow:before {content: \"▸\";float: left;margin-right: 0.25em;color: #696969;}#sk-container-id-1 label.sk-toggleable__label-arrow:hover:before {color: black;}#sk-container-id-1 div.sk-estimator:hover label.sk-toggleable__label-arrow:before {color: black;}#sk-container-id-1 div.sk-toggleable__content {max-height: 0;max-width: 0;overflow: hidden;text-align: left;background-color: #f0f8ff;}#sk-container-id-1 div.sk-toggleable__content pre {margin: 0.2em;color: black;border-radius: 0.25em;background-color: #f0f8ff;}#sk-container-id-1 input.sk-toggleable__control:checked~div.sk-toggleable__content {max-height: 200px;max-width: 100%;overflow: auto;}#sk-container-id-1 input.sk-toggleable__control:checked~label.sk-toggleable__label-arrow:before {content: \"▾\";}#sk-container-id-1 div.sk-estimator input.sk-toggleable__control:checked~label.sk-toggleable__label {background-color: #d4ebff;}#sk-container-id-1 div.sk-label input.sk-toggleable__control:checked~label.sk-toggleable__label {background-color: #d4ebff;}#sk-container-id-1 input.sk-hidden--visually {border: 0;clip: rect(1px 1px 1px 1px);clip: rect(1px, 1px, 1px, 1px);height: 1px;margin: -1px;overflow: hidden;padding: 0;position: absolute;width: 1px;}#sk-container-id-1 div.sk-estimator {font-family: monospace;background-color: #f0f8ff;border: 1px dotted black;border-radius: 0.25em;box-sizing: border-box;margin-bottom: 0.5em;}#sk-container-id-1 div.sk-estimator:hover {background-color: #d4ebff;}#sk-container-id-1 div.sk-parallel-item::after {content: \"\";width: 100%;border-bottom: 1px solid gray;flex-grow: 1;}#sk-container-id-1 div.sk-label:hover label.sk-toggleable__label {background-color: #d4ebff;}#sk-container-id-1 div.sk-serial::before {content: \"\";position: absolute;border-left: 1px solid gray;box-sizing: border-box;top: 0;bottom: 0;left: 50%;z-index: 0;}#sk-container-id-1 div.sk-serial {display: flex;flex-direction: column;align-items: center;background-color: white;padding-right: 0.2em;padding-left: 0.2em;position: relative;}#sk-container-id-1 div.sk-item {position: relative;z-index: 1;}#sk-container-id-1 div.sk-parallel {display: flex;align-items: stretch;justify-content: center;background-color: white;position: relative;}#sk-container-id-1 div.sk-item::before, #sk-container-id-1 div.sk-parallel-item::before {content: \"\";position: absolute;border-left: 1px solid gray;box-sizing: border-box;top: 0;bottom: 0;left: 50%;z-index: -1;}#sk-container-id-1 div.sk-parallel-item {display: flex;flex-direction: column;z-index: 1;position: relative;background-color: white;}#sk-container-id-1 div.sk-parallel-item:first-child::after {align-self: flex-end;width: 50%;}#sk-container-id-1 div.sk-parallel-item:last-child::after {align-self: flex-start;width: 50%;}#sk-container-id-1 div.sk-parallel-item:only-child::after {width: 0;}#sk-container-id-1 div.sk-dashed-wrapped {border: 1px dashed gray;margin: 0 0.4em 0.5em 0.4em;box-sizing: border-box;padding-bottom: 0.4em;background-color: white;}#sk-container-id-1 div.sk-label label {font-family: monospace;font-weight: bold;display: inline-block;line-height: 1.2em;}#sk-container-id-1 div.sk-label-container {text-align: center;}#sk-container-id-1 div.sk-container {/* jupyter's `normalize.less` sets `[hidden] { display: none; }` but bootstrap.min.css set `[hidden] { display: none !important; }` so we also need the `!important` here to be able to override the default hidden behavior on the sphinx rendered scikit-learn.org. See: https://github.com/scikit-learn/scikit-learn/issues/21755 */display: inline-block !important;position: relative;}#sk-container-id-1 div.sk-text-repr-fallback {display: none;}</style><div id=\"sk-container-id-1\" class=\"sk-top-container\"><div class=\"sk-text-repr-fallback\"><pre>RandomForestRegressor()</pre><b>In a Jupyter environment, please rerun this cell to show the HTML representation or trust the notebook. <br />On GitHub, the HTML representation is unable to render, please try loading this page with nbviewer.org.</b></div><div class=\"sk-container\" hidden><div class=\"sk-item\"><div class=\"sk-estimator sk-toggleable\"><input class=\"sk-toggleable__control sk-hidden--visually\" id=\"sk-estimator-id-1\" type=\"checkbox\" checked><label for=\"sk-estimator-id-1\" class=\"sk-toggleable__label sk-toggleable__label-arrow\">RandomForestRegressor</label><div class=\"sk-toggleable__content\"><pre>RandomForestRegressor()</pre></div></div></div></div></div>"
            ]
          },
          "metadata": {},
          "execution_count": 11
        }
      ]
    },
    {
      "cell_type": "markdown",
      "source": [
        "## Model Building for Classification Task"
      ],
      "metadata": {
        "id": "BtdhTiEnNy5G"
      }
    },
    {
      "cell_type": "code",
      "source": [
        "X_train_dense = X_train.toarray()\n",
        "X_test_dense = X_test.toarray()"
      ],
      "metadata": {
        "id": "aSIAdC1clQOL"
      },
      "execution_count": 12,
      "outputs": []
    },
    {
      "cell_type": "code",
      "source": [
        "# Classification Models\n",
        "\n",
        "# Logistic Regression\n",
        "logistic_model = LogisticRegression(max_iter=1000)\n",
        "logistic_model.fit(X_train, y_classification_train)\n",
        "\n",
        "# Naive Bayes\n",
        "nb_model = GaussianNB()\n",
        "nb_model.fit(X_train_dense, y_classification_train)\n",
        "\n",
        "# K-Nearest Neighbors\n",
        "knn_model = KNeighborsClassifier()\n",
        "knn_model.fit(X_train_dense, y_classification_train)\n",
        "\n",
        "# Support Vector Machine\n",
        "svm_model = SVC()\n",
        "svm_model.fit(X_train, y_classification_train)\n",
        "\n",
        "# Random Forest\n",
        "rf_model = RandomForestClassifier()\n",
        "rf_model.fit(X_train, y_classification_train)\n"
      ],
      "metadata": {
        "id": "phzKj8FZlQUZ",
        "colab": {
          "base_uri": "https://localhost:8080/",
          "height": 74
        },
        "outputId": "a415faf6-202c-4af8-f17f-ff05de5af02f"
      },
      "execution_count": 13,
      "outputs": [
        {
          "output_type": "execute_result",
          "data": {
            "text/plain": [
              "RandomForestClassifier()"
            ],
            "text/html": [
              "<style>#sk-container-id-2 {color: black;background-color: white;}#sk-container-id-2 pre{padding: 0;}#sk-container-id-2 div.sk-toggleable {background-color: white;}#sk-container-id-2 label.sk-toggleable__label {cursor: pointer;display: block;width: 100%;margin-bottom: 0;padding: 0.3em;box-sizing: border-box;text-align: center;}#sk-container-id-2 label.sk-toggleable__label-arrow:before {content: \"▸\";float: left;margin-right: 0.25em;color: #696969;}#sk-container-id-2 label.sk-toggleable__label-arrow:hover:before {color: black;}#sk-container-id-2 div.sk-estimator:hover label.sk-toggleable__label-arrow:before {color: black;}#sk-container-id-2 div.sk-toggleable__content {max-height: 0;max-width: 0;overflow: hidden;text-align: left;background-color: #f0f8ff;}#sk-container-id-2 div.sk-toggleable__content pre {margin: 0.2em;color: black;border-radius: 0.25em;background-color: #f0f8ff;}#sk-container-id-2 input.sk-toggleable__control:checked~div.sk-toggleable__content {max-height: 200px;max-width: 100%;overflow: auto;}#sk-container-id-2 input.sk-toggleable__control:checked~label.sk-toggleable__label-arrow:before {content: \"▾\";}#sk-container-id-2 div.sk-estimator input.sk-toggleable__control:checked~label.sk-toggleable__label {background-color: #d4ebff;}#sk-container-id-2 div.sk-label input.sk-toggleable__control:checked~label.sk-toggleable__label {background-color: #d4ebff;}#sk-container-id-2 input.sk-hidden--visually {border: 0;clip: rect(1px 1px 1px 1px);clip: rect(1px, 1px, 1px, 1px);height: 1px;margin: -1px;overflow: hidden;padding: 0;position: absolute;width: 1px;}#sk-container-id-2 div.sk-estimator {font-family: monospace;background-color: #f0f8ff;border: 1px dotted black;border-radius: 0.25em;box-sizing: border-box;margin-bottom: 0.5em;}#sk-container-id-2 div.sk-estimator:hover {background-color: #d4ebff;}#sk-container-id-2 div.sk-parallel-item::after {content: \"\";width: 100%;border-bottom: 1px solid gray;flex-grow: 1;}#sk-container-id-2 div.sk-label:hover label.sk-toggleable__label {background-color: #d4ebff;}#sk-container-id-2 div.sk-serial::before {content: \"\";position: absolute;border-left: 1px solid gray;box-sizing: border-box;top: 0;bottom: 0;left: 50%;z-index: 0;}#sk-container-id-2 div.sk-serial {display: flex;flex-direction: column;align-items: center;background-color: white;padding-right: 0.2em;padding-left: 0.2em;position: relative;}#sk-container-id-2 div.sk-item {position: relative;z-index: 1;}#sk-container-id-2 div.sk-parallel {display: flex;align-items: stretch;justify-content: center;background-color: white;position: relative;}#sk-container-id-2 div.sk-item::before, #sk-container-id-2 div.sk-parallel-item::before {content: \"\";position: absolute;border-left: 1px solid gray;box-sizing: border-box;top: 0;bottom: 0;left: 50%;z-index: -1;}#sk-container-id-2 div.sk-parallel-item {display: flex;flex-direction: column;z-index: 1;position: relative;background-color: white;}#sk-container-id-2 div.sk-parallel-item:first-child::after {align-self: flex-end;width: 50%;}#sk-container-id-2 div.sk-parallel-item:last-child::after {align-self: flex-start;width: 50%;}#sk-container-id-2 div.sk-parallel-item:only-child::after {width: 0;}#sk-container-id-2 div.sk-dashed-wrapped {border: 1px dashed gray;margin: 0 0.4em 0.5em 0.4em;box-sizing: border-box;padding-bottom: 0.4em;background-color: white;}#sk-container-id-2 div.sk-label label {font-family: monospace;font-weight: bold;display: inline-block;line-height: 1.2em;}#sk-container-id-2 div.sk-label-container {text-align: center;}#sk-container-id-2 div.sk-container {/* jupyter's `normalize.less` sets `[hidden] { display: none; }` but bootstrap.min.css set `[hidden] { display: none !important; }` so we also need the `!important` here to be able to override the default hidden behavior on the sphinx rendered scikit-learn.org. See: https://github.com/scikit-learn/scikit-learn/issues/21755 */display: inline-block !important;position: relative;}#sk-container-id-2 div.sk-text-repr-fallback {display: none;}</style><div id=\"sk-container-id-2\" class=\"sk-top-container\"><div class=\"sk-text-repr-fallback\"><pre>RandomForestClassifier()</pre><b>In a Jupyter environment, please rerun this cell to show the HTML representation or trust the notebook. <br />On GitHub, the HTML representation is unable to render, please try loading this page with nbviewer.org.</b></div><div class=\"sk-container\" hidden><div class=\"sk-item\"><div class=\"sk-estimator sk-toggleable\"><input class=\"sk-toggleable__control sk-hidden--visually\" id=\"sk-estimator-id-2\" type=\"checkbox\" checked><label for=\"sk-estimator-id-2\" class=\"sk-toggleable__label sk-toggleable__label-arrow\">RandomForestClassifier</label><div class=\"sk-toggleable__content\"><pre>RandomForestClassifier()</pre></div></div></div></div></div>"
            ]
          },
          "metadata": {},
          "execution_count": 13
        }
      ]
    },
    {
      "cell_type": "markdown",
      "source": [
        "## Evaluation Step of Both Regression and Classification Task"
      ],
      "metadata": {
        "id": "j7S5qTiCNsND"
      }
    },
    {
      "cell_type": "code",
      "source": [
        "import matplotlib.pyplot as plt\n",
        "import seaborn as sns\n",
        "from sklearn.metrics import confusion_matrix, ConfusionMatrixDisplay"
      ],
      "metadata": {
        "id": "OBBA1vmWoWU7"
      },
      "execution_count": 35,
      "outputs": []
    },
    {
      "cell_type": "code",
      "source": [
        "from sklearn.metrics import mean_squared_error, mean_absolute_error, accuracy_score, f1_score\n",
        "\n",
        "def evaluate_classification_models(models, X_test_dense, y_test):\n",
        "\n",
        "    for name, model in models.items():\n",
        "        if name in [\"GaussianNB\", \"K-Nearest Neighbors\"]:\n",
        "            y_pred = model.predict(X_test_dense)\n",
        "        else:\n",
        "            y_pred = model.predict(X_test)\n",
        "        print(f\"{name} -\\t\\t Accuracy: {accuracy_score(y_test, y_pred):.4f}, F1 Score: {f1_score(y_test, y_pred):.4f}\")\n",
        "\n",
        "        cm = confusion_matrix(y_test, y_pred)\n",
        "        disp = ConfusionMatrixDisplay(confusion_matrix=cm, display_labels=['0', '1'])\n",
        "        \n",
        "        plt.figure(figsize=(6, 6))\n",
        "        disp.plot(cmap='Blues', values_format='d', ax=plt.gca())\n",
        "        plt.title(f\"Confusion Matrix - {name}\")\n",
        "        plt.show()\n",
        "\n",
        "def evaluate_regression_models(models, X_test, y_test):\n",
        "\n",
        "\n",
        "    for name, model in models.items():\n",
        "        y_pred = model.predict(X_test)\n",
        "        print(f\"{name} - MSE: {mean_squared_error(y_test, y_pred):.4f}\")\n",
        "        residuals = y_test - y_pred\n",
        "\n",
        "        fig, axes = plt.subplots(1, 2, figsize=(12, 4))\n",
        "        \n",
        "        # Residual plot\n",
        "        sns.scatterplot(x=y_pred, y=residuals, ax=axes[0])\n",
        "        axes[0].axhline(y=0, color='r', linestyle='--')\n",
        "        axes[0].set_xlabel('Predicted Values')\n",
        "        axes[0].set_ylabel('Residuals')\n",
        "        axes[0].set_title(f'Residual Plot - {name}')\n",
        "        \n",
        "        # Scatter plot of actual vs predicted values\n",
        "        sns.scatterplot(x=y_test, y=y_pred, ax=axes[1])\n",
        "        axes[1].plot([min(y_test), max(y_test)], [min(y_test), max(y_test)], 'r--')\n",
        "        axes[1].set_xlabel('Actual Values')\n",
        "        axes[1].set_ylabel('Predicted Values')\n",
        "        axes[1].set_title(f'Scatter Plot - {name}')\n",
        "        \n",
        "        plt.tight_layout()\n",
        "        plt.show()\n",
        "\n",
        "\n"
      ],
      "metadata": {
        "id": "jPwwKnnwlQg0"
      },
      "execution_count": 44,
      "outputs": []
    },
    {
      "cell_type": "code",
      "source": [
        "classification_models = {\n",
        "    \"Logistic Regression\":logistic_model,\n",
        "    \"GaussianNB\": nb_model,\n",
        "    \"K-Nearest Neighbors\": knn_model,\n",
        "    \"Support Vector Machine\": svm_model,\n",
        "    \"Random Forest\": rf_model\n",
        "}\n",
        "\n",
        "regression_models = {\n",
        "    \"Linear Regression\": regression_model,\n",
        "    \"Ridge Regression\": ridge_model,\n",
        "    \"Lasso Regression\": lasso_model,\n",
        "    \"Support Vector Regression\": svr_model,\n",
        "    \"Random Forest Regression\": rf_regression_model\n",
        "}"
      ],
      "metadata": {
        "id": "SKppWaIMjXG-"
      },
      "execution_count": 31,
      "outputs": []
    },
    {
      "cell_type": "code",
      "source": [
        "# Evaluation for classification Model\n",
        "evaluate_classification_models(classification_models, X_test_dense, y_classification_test)"
      ],
      "metadata": {
        "id": "RaWKpXapLaDc"
      },
      "execution_count": null,
      "outputs": []
    },
    {
      "cell_type": "code",
      "source": [
        "# Evaluation for Regression Model\n",
        "evaluate_regression_models(regression_models, X_test, y_regression_test)"
      ],
      "metadata": {
        "id": "AyAzWo4OjXJt",
        "colab": {
          "base_uri": "https://localhost:8080/",
          "height": 1000
        },
        "outputId": "d833c9cc-6814-44de-9e83-e6f7f8beafe4"
      },
      "execution_count": 45,
      "outputs": [
        {
          "output_type": "stream",
          "name": "stdout",
          "text": [
            "Linear Regression - MSE: 0.0000\n"
          ]
        },
        {
          "output_type": "display_data",
          "data": {
            "text/plain": [
              "<Figure size 864x288 with 2 Axes>"
            ],
            "image/png": "[encoded data removed]"
          },
          "metadata": {
            "needs_background": "light"
          }
        },
        {
          "output_type": "stream",
          "name": "stdout",
          "text": [
            "Ridge Regression - MSE: 0.0000\n"
          ]
        },
        {
          "output_type": "display_data",
          "data": {
            "text/plain": [
              "<Figure size 864x288 with 2 Axes>"
            ],
            "image/png": "[encoded data removed]"
          },
          "metadata": {
            "needs_background": "light"
          }
        },
        {
          "output_type": "stream",
          "name": "stdout",
          "text": [
            "Lasso Regression - MSE: 2.6606\n"
          ]
        },
        {
          "output_type": "display_data",
          "data": {
            "text/plain": [
              "<Figure size 864x288 with 2 Axes>"
            ],
            "image/png": "[encoded data removed]"
          },
          "metadata": {
            "needs_background": "light"
          }
        },
        {
          "output_type": "stream",
          "name": "stdout",
          "text": [
            "Support Vector Regression - MSE: 2.8215\n"
          ]
        },
        {
          "output_type": "display_data",
          "data": {
            "text/plain": [
              "<Figure size 864x288 with 2 Axes>"
            ],
            "image/png": "[encoded data removed]"
          },
          "metadata": {
            "needs_background": "light"
          }
        },
        {
          "output_type": "stream",
          "name": "stdout",
          "text": [
            "Random Forest Regression - MSE: 0.6892\n"
          ]
        },
        {
          "output_type": "display_data",
          "data": {
            "text/plain": [
              "<Figure size 864x288 with 2 Axes>"
            ],
            "image/png": "[encoded data removed]"
          },
          "metadata": {
            "needs_background": "light"
          }
        }
      ]
    },
    {
      "cell_type": "markdown",
      "source": [
        "## Classification Task by Neural Network"
      ],
      "metadata": {
        "id": "PzJiDErtNklI"
      }
    },
    {
      "cell_type": "code",
      "source": [
        "X_train_nn, X_val_nn, y_classification_train_nn, y_classification_val_nn = train_test_split(X_train_dense, y_classification_train, test_size=0.2, random_state=42)"
      ],
      "metadata": {
        "id": "lhm9TQk9jXMt"
      },
      "execution_count": 18,
      "outputs": []
    },
    {
      "cell_type": "code",
      "source": [
        "# Classification Neural Network\n",
        "nn_model = Sequential([\n",
        "    Dense(128, activation='relu', input_shape=(X_train_nn.shape[1],)),\n",
        "    Dropout(0.5),\n",
        "    Dense(64, activation='relu'),\n",
        "    Dropout(0.5),\n",
        "    Dense(1, activation='sigmoid')\n",
        "])\n",
        "\n",
        "nn_model.compile(optimizer='adam', loss='binary_crossentropy', metrics=['accuracy'])\n",
        "nn_model.fit(X_train_nn, y_classification_train_nn, epochs=20, batch_size=32, validation_data=(X_val_nn, y_classification_val_nn))\n",
        "\n"
      ],
      "metadata": {
        "id": "hWpRws1ijXPg",
        "colab": {
          "base_uri": "https://localhost:8080/"
        },
        "outputId": "906105f9-7779-4dc4-f137-072d2664821e"
      },
      "execution_count": 19,
      "outputs": [
        {
          "output_type": "stream",
          "name": "stdout",
          "text": [
            "Epoch 1/20\n",
            "335/335 [==============================] - 7s 6ms/step - loss: 0.1013 - accuracy: 0.9640 - val_loss: 0.0226 - val_accuracy: 0.9925\n",
            "Epoch 2/20\n",
            "335/335 [==============================] - 1s 4ms/step - loss: 0.0294 - accuracy: 0.9902 - val_loss: 0.0194 - val_accuracy: 0.9914\n",
            "Epoch 3/20\n",
            "335/335 [==============================] - 1s 4ms/step - loss: 0.0202 - accuracy: 0.9935 - val_loss: 0.0189 - val_accuracy: 0.9918\n",
            "Epoch 4/20\n",
            "335/335 [==============================] - 2s 5ms/step - loss: 0.0187 - accuracy: 0.9948 - val_loss: 0.0145 - val_accuracy: 0.9940\n",
            "Epoch 5/20\n",
            "335/335 [==============================] - 3s 8ms/step - loss: 0.0116 - accuracy: 0.9975 - val_loss: 0.0175 - val_accuracy: 0.9951\n",
            "Epoch 6/20\n",
            "335/335 [==============================] - 2s 6ms/step - loss: 0.0184 - accuracy: 0.9964 - val_loss: 0.0212 - val_accuracy: 0.9903\n",
            "Epoch 7/20\n",
            "335/335 [==============================] - 1s 4ms/step - loss: 0.0131 - accuracy: 0.9966 - val_loss: 0.0193 - val_accuracy: 0.9929\n",
            "Epoch 8/20\n",
            "335/335 [==============================] - 2s 5ms/step - loss: 0.0087 - accuracy: 0.9981 - val_loss: 0.0202 - val_accuracy: 0.9940\n",
            "Epoch 9/20\n",
            "335/335 [==============================] - 2s 7ms/step - loss: 0.0131 - accuracy: 0.9970 - val_loss: 0.0214 - val_accuracy: 0.9914\n",
            "Epoch 10/20\n",
            "335/335 [==============================] - 1s 4ms/step - loss: 0.0092 - accuracy: 0.9974 - val_loss: 0.0205 - val_accuracy: 0.9936\n",
            "Epoch 11/20\n",
            "335/335 [==============================] - 1s 4ms/step - loss: 0.0099 - accuracy: 0.9969 - val_loss: 0.0321 - val_accuracy: 0.9888\n",
            "Epoch 12/20\n",
            "335/335 [==============================] - 1s 4ms/step - loss: 0.0109 - accuracy: 0.9964 - val_loss: 0.0179 - val_accuracy: 0.9933\n",
            "Epoch 13/20\n",
            "335/335 [==============================] - 1s 4ms/step - loss: 0.0064 - accuracy: 0.9980 - val_loss: 0.0281 - val_accuracy: 0.9899\n",
            "Epoch 14/20\n",
            "335/335 [==============================] - 1s 4ms/step - loss: 0.0064 - accuracy: 0.9985 - val_loss: 0.0214 - val_accuracy: 0.9925\n",
            "Epoch 15/20\n",
            "335/335 [==============================] - 1s 4ms/step - loss: 0.0056 - accuracy: 0.9982 - val_loss: 0.0215 - val_accuracy: 0.9921\n",
            "Epoch 16/20\n",
            "335/335 [==============================] - 2s 5ms/step - loss: 0.0050 - accuracy: 0.9983 - val_loss: 0.0190 - val_accuracy: 0.9929\n",
            "Epoch 17/20\n",
            "335/335 [==============================] - 1s 4ms/step - loss: 0.0034 - accuracy: 0.9987 - val_loss: 0.0237 - val_accuracy: 0.9921\n",
            "Epoch 18/20\n",
            "335/335 [==============================] - 1s 4ms/step - loss: 0.0046 - accuracy: 0.9981 - val_loss: 0.0253 - val_accuracy: 0.9933\n",
            "Epoch 19/20\n",
            "335/335 [==============================] - 1s 4ms/step - loss: 0.0054 - accuracy: 0.9981 - val_loss: 0.0271 - val_accuracy: 0.9907\n",
            "Epoch 20/20\n",
            "335/335 [==============================] - 1s 4ms/step - loss: 0.0045 - accuracy: 0.9980 - val_loss: 0.0245 - val_accuracy: 0.9925\n"
          ]
        },
        {
          "output_type": "execute_result",
          "data": {
            "text/plain": [
              "<keras.callbacks.History at 0x7fe5681c0880>"
            ]
          },
          "metadata": {},
          "execution_count": 19
        }
      ]
    },
    {
      "cell_type": "code",
      "source": [
        "#Accuracy for classification Task by Neural Network\n",
        "\n",
        "y_pred_proba = nn_model.predict(X_test_dense)\n",
        "y_pred = (y_pred_proba > 0.5).astype(int).reshape(-1)\n",
        "print(f\"Neural Network - Accuracy: {accuracy_score(y_classification_test, y_pred):.4f}, F1 Score: {f1_score(y_classification_test, y_pred):.4f}\")\n",
        "\n",
        "\n",
        "\n",
        "cm = confusion_matrix(y_classification_test, y_pred)\n",
        "disp = ConfusionMatrixDisplay(confusion_matrix=cm, display_labels=['0', '1'])\n",
        "        \n",
        "plt.figure(figsize=(6, 6))\n",
        "disp.plot(cmap='Blues', values_format='d', ax=plt.gca())\n",
        "plt.title(f\"Confusion Matrix - \")\n",
        "plt.show()\n"
      ],
      "metadata": {
        "colab": {
          "base_uri": "https://localhost:8080/",
          "height": 393
        },
        "id": "OCQ2dapDMfi9",
        "outputId": "690679c1-00c6-42e5-cbd7-b01b36aa6961"
      },
      "execution_count": 38,
      "outputs": [
        {
          "output_type": "stream",
          "name": "stdout",
          "text": [
            "105/105 [==============================] - 0s 2ms/step\n",
            "Neural Network - Accuracy: 0.9928, F1 Score: 0.9695\n"
          ]
        },
        {
          "output_type": "display_data",
          "data": {
            "text/plain": [
              "<Figure size 432x432 with 2 Axes>"
            ],
            "image/png": "[encoded data removed]"
          },
          "metadata": {
            "needs_background": "light"
          }
        }
      ]
    },
    {
      "cell_type": "markdown",
      "source": [
        "## Regression Task by Neural Network\n"
      ],
      "metadata": {
        "id": "UlWXPh9iNcEz"
      }
    },
    {
      "cell_type": "code",
      "source": [
        "# Splitting Data for regression Task\n",
        "\n",
        "X_train_nn_regression, X_val_nn_regression, y_regression_train_nn, y_regression_val_nn = train_test_split(X_train_dense, y_regression_train, test_size=0.2, random_state=42)"
      ],
      "metadata": {
        "id": "ivMVk58hjXST"
      },
      "execution_count": 21,
      "outputs": []
    },
    {
      "cell_type": "code",
      "source": [
        "# Regression Neural Network\n",
        "nn_regression_model = Sequential([\n",
        "    Dense(128, activation='relu', input_shape=(X_train_nn_regression.shape[1],)),\n",
        "    Dropout(0.5),\n",
        "    Dense(64, activation='relu'),\n",
        "    Dropout(0.5),\n",
        "    Dense(1)\n",
        "])\n",
        "\n",
        "nn_regression_model.compile(optimizer='adam', loss='mean_squared_error')\n",
        "nn_regression_model.fit(X_train_nn_regression, y_regression_train_nn, epochs=20, batch_size=32, validation_data=(X_val_nn_regression, y_regression_val_nn))\n"
      ],
      "metadata": {
        "id": "rl4NCkG3jXVQ",
        "colab": {
          "base_uri": "https://localhost:8080/"
        },
        "outputId": "df7211b2-1529-4d8a-9eb8-45842f2626da"
      },
      "execution_count": 22,
      "outputs": [
        {
          "output_type": "stream",
          "name": "stdout",
          "text": [
            "Epoch 1/20\n",
            "335/335 [==============================] - 4s 5ms/step - loss: 0.5119 - val_loss: 0.0788\n",
            "Epoch 2/20\n",
            "335/335 [==============================] - 2s 5ms/step - loss: 0.1915 - val_loss: 0.1089\n",
            "Epoch 3/20\n",
            "335/335 [==============================] - 2s 6ms/step - loss: 0.2261 - val_loss: 0.0804\n",
            "Epoch 4/20\n",
            "335/335 [==============================] - 2s 5ms/step - loss: 0.1897 - val_loss: 0.0568\n",
            "Epoch 5/20\n",
            "335/335 [==============================] - 1s 4ms/step - loss: 0.2720 - val_loss: 0.3214\n",
            "Epoch 6/20\n",
            "335/335 [==============================] - 3s 8ms/step - loss: 0.2302 - val_loss: 0.0596\n",
            "Epoch 7/20\n",
            "335/335 [==============================] - 2s 6ms/step - loss: 0.2179 - val_loss: 0.0803\n",
            "Epoch 8/20\n",
            "335/335 [==============================] - 2s 5ms/step - loss: 0.2089 - val_loss: 0.0788\n",
            "Epoch 9/20\n",
            "335/335 [==============================] - 2s 5ms/step - loss: 0.1803 - val_loss: 0.0408\n",
            "Epoch 10/20\n",
            "335/335 [==============================] - 1s 4ms/step - loss: 0.1624 - val_loss: 0.0566\n",
            "Epoch 11/20\n",
            "335/335 [==============================] - 1s 3ms/step - loss: 0.1198 - val_loss: 0.0396\n",
            "Epoch 12/20\n",
            "335/335 [==============================] - 2s 5ms/step - loss: 0.1639 - val_loss: 0.0932\n",
            "Epoch 13/20\n",
            "335/335 [==============================] - 2s 7ms/step - loss: 0.2046 - val_loss: 0.0521\n",
            "Epoch 14/20\n",
            "335/335 [==============================] - 2s 6ms/step - loss: 0.1838 - val_loss: 0.0726\n",
            "Epoch 15/20\n",
            "335/335 [==============================] - 1s 4ms/step - loss: 0.1683 - val_loss: 0.0610\n",
            "Epoch 16/20\n",
            "335/335 [==============================] - 2s 5ms/step - loss: 0.1485 - val_loss: 0.0299\n",
            "Epoch 17/20\n",
            "335/335 [==============================] - 2s 5ms/step - loss: 0.1971 - val_loss: 0.0246\n",
            "Epoch 18/20\n",
            "335/335 [==============================] - 2s 5ms/step - loss: 0.2234 - val_loss: 0.0403\n",
            "Epoch 19/20\n",
            "335/335 [==============================] - 2s 5ms/step - loss: 0.1710 - val_loss: 0.0496\n",
            "Epoch 20/20\n",
            "335/335 [==============================] - 2s 5ms/step - loss: 0.2332 - val_loss: 0.0733\n"
          ]
        },
        {
          "output_type": "execute_result",
          "data": {
            "text/plain": [
              "<keras.callbacks.History at 0x7fe55c172fa0>"
            ]
          },
          "metadata": {},
          "execution_count": 22
        }
      ]
    },
    {
      "cell_type": "code",
      "source": [
        "y_pred = nn_regression_model.predict(X_test)\n",
        "print(f\"Neural Network - MSE: {mean_squared_error(y_regression_test, y_pred):.4f}\")"
      ],
      "metadata": {
        "id": "NL1FOOp8jXYF",
        "colab": {
          "base_uri": "https://localhost:8080/"
        },
        "outputId": "dce22ffd-c8fe-4825-f7cb-b663a37ea898"
      },
      "execution_count": 42,
      "outputs": [
        {
          "output_type": "stream",
          "name": "stdout",
          "text": [
            "105/105 [==============================] - 0s 3ms/step\n",
            "Neural Network - MSE: 0.1747\n"
          ]
        }
      ]
    },
    {
      "cell_type": "code",
      "source": [],
      "metadata": {
        "id": "7BWHRq6zjXa_"
      },
      "execution_count": 45,
      "outputs": []
    },
    {
      "cell_type": "code",
      "source": [],
      "metadata": {
        "id": "fu-jJBzQnbyK"
      },
      "execution_count": null,
      "outputs": []
    }
  ]
}