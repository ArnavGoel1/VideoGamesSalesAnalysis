{
 "cells": [
  {
   "cell_type": "code",
   "execution_count": 47,
   "metadata": {},
   "outputs": [],
   "source": [
    "import pandas as pd\n",
    "import numpy as np\n",
    "from sklearn.preprocessing import StandardScaler\n",
    "\n",
    "FILENAME = \"C:/Users/Yi Yang/Documents/Dsci521/Video_Games_Sales_as_at_22_Dec_2016.csv\" \n",
    "df= pd.read_csv(FILENAME, na_values='tbd')\n",
    "\n"
   ]
  },
  {
   "cell_type": "code",
   "execution_count": 48,
   "metadata": {},
   "outputs": [
    {
     "data": {
      "text/plain": [
       "Index(['Name', 'Platform', 'Year_of_Release', 'Genre', 'Publisher', 'NA_Sales',\n",
       "       'EU_Sales', 'JP_Sales', 'Other_Sales', 'Global_Sales', 'Critic_Score',\n",
       "       'Critic_Count', 'User_Score', 'User_Count', 'Developer', 'Rating'],\n",
       "      dtype='object')"
      ]
     },
     "execution_count": 48,
     "metadata": {},
     "output_type": "execute_result"
    }
   ],
   "source": [
    "df.columns\n"
   ]
  },
  {
   "cell_type": "code",
   "execution_count": 49,
   "metadata": {},
   "outputs": [],
   "source": [
    "df['Name'].fillna('Unknown', inplace=True)\n",
    "df['Platform'].fillna('Unknown', inplace=True)\n",
    "df['Year_of_Release'].fillna(df['Year_of_Release'].median(), inplace=True)\n",
    "df['Genre'].fillna('Unknown', inplace=True)\n",
    "df['Publisher'].fillna('Unknown', inplace=True)\n",
    "df['Developer'].fillna('Unknown', inplace=True)\n",
    "df['Rating'].fillna('Unknown', inplace=True)\n",
    "\n",
    "# Year_of_Release to int\n",
    "df['Year_of_Release'] = df['Year_of_Release'].astype(int)\n",
    "\n",
    "# handle outliers\n",
    "df['NA_Sales'] = df['NA_Sales'].clip(lower=0)\n",
    "df['EU_Sales'] = df['EU_Sales'].clip(lower=0)\n",
    "df['JP_Sales'] = df['JP_Sales'].clip(lower=0)\n",
    "df['Other_Sales'] = df['Other_Sales'].clip(lower=0)\n",
    "df['Global_Sales'] = df['Global_Sales'].clip(lower=0)\n",
    "\n",
    "# Critic_Score，Critic_Count，User_Score User_Count lossing value\n",
    "df['Critic_Score'].fillna(df['Critic_Score'].mean(), inplace=True)\n",
    "df['Critic_Count'].fillna(df['Critic_Count'].mean(), inplace=True)\n",
    "df['User_Score'].fillna(df['User_Score'].mean(), inplace=True)\n",
    "df['User_Count'].fillna(df['User_Count'].mean(), inplace=True)\n",
    "\n",
    "# Critic_Count User_Count to ine\n",
    "df['Critic_Count'] = df['Critic_Count'].astype(int)\n",
    "df['User_Count'] = df['User_Count'].astype(int)"
   ]
  },
  {
   "cell_type": "code",
   "execution_count": 50,
   "metadata": {},
   "outputs": [
    {
     "data": {
      "text/plain": [
       "<bound method DataFrame.info of                                 Name Platform  Year_of_Release         Genre  \\\n",
       "0                         Wii Sports      Wii             2006        Sports   \n",
       "1                  Super Mario Bros.      NES             1985      Platform   \n",
       "2                     Mario Kart Wii      Wii             2008        Racing   \n",
       "3                  Wii Sports Resort      Wii             2009        Sports   \n",
       "4           Pokemon Red/Pokemon Blue       GB             1996  Role-Playing   \n",
       "...                              ...      ...              ...           ...   \n",
       "16714  Samurai Warriors: Sanada Maru      PS3             2016        Action   \n",
       "16715               LMA Manager 2007     X360             2006        Sports   \n",
       "16716        Haitaka no Psychedelica      PSV             2016     Adventure   \n",
       "16717               Spirits & Spells      GBA             2003      Platform   \n",
       "16718            Winning Post 8 2016      PSV             2016    Simulation   \n",
       "\n",
       "          Publisher  NA_Sales  EU_Sales  JP_Sales  Other_Sales  Global_Sales  \\\n",
       "0          Nintendo     41.36     28.96      3.77         8.45         82.53   \n",
       "1          Nintendo     29.08      3.58      6.81         0.77         40.24   \n",
       "2          Nintendo     15.68     12.76      3.79         3.29         35.52   \n",
       "3          Nintendo     15.61     10.93      3.28         2.95         32.77   \n",
       "4          Nintendo     11.27      8.89     10.22         1.00         31.37   \n",
       "...             ...       ...       ...       ...          ...           ...   \n",
       "16714    Tecmo Koei      0.00      0.00      0.01         0.00          0.01   \n",
       "16715   Codemasters      0.00      0.01      0.00         0.00          0.01   \n",
       "16716  Idea Factory      0.00      0.00      0.01         0.00          0.01   \n",
       "16717       Wanadoo      0.01      0.00      0.00         0.00          0.01   \n",
       "16718    Tecmo Koei      0.00      0.00      0.01         0.00          0.01   \n",
       "\n",
       "       Critic_Score  Critic_Count  User_Score  User_Count Developer   Rating  \n",
       "0         76.000000            51    8.000000         322  Nintendo        E  \n",
       "1         68.967679            26    7.125046         162   Unknown  Unknown  \n",
       "2         82.000000            73    8.300000         709  Nintendo        E  \n",
       "3         80.000000            73    8.000000         192  Nintendo        E  \n",
       "4         68.967679            26    7.125046         162   Unknown  Unknown  \n",
       "...             ...           ...         ...         ...       ...      ...  \n",
       "16714     68.967679            26    7.125046         162   Unknown  Unknown  \n",
       "16715     68.967679            26    7.125046         162   Unknown  Unknown  \n",
       "16716     68.967679            26    7.125046         162   Unknown  Unknown  \n",
       "16717     68.967679            26    7.125046         162   Unknown  Unknown  \n",
       "16718     68.967679            26    7.125046         162   Unknown  Unknown  \n",
       "\n",
       "[16719 rows x 16 columns]>"
      ]
     },
     "execution_count": 50,
     "metadata": {},
     "output_type": "execute_result"
    }
   ],
   "source": [
    "df.info"
   ]
  },
  {
   "cell_type": "code",
   "execution_count": 51,
   "metadata": {},
   "outputs": [
    {
     "data": {
      "text/plain": [
       "Index(['Name', 'Platform', 'Year_of_Release', 'Genre', 'Publisher', 'NA_Sales',\n",
       "       'EU_Sales', 'JP_Sales', 'Other_Sales', 'Global_Sales', 'Critic_Score',\n",
       "       'Critic_Count', 'User_Score', 'User_Count', 'Developer', 'Rating',\n",
       "       'Sales_Per_User', 'NA_Sales_Ratio', 'EU_Sales_Ratio', 'JP_Sales_Ratio',\n",
       "       'Other_Sales_Ratio', 'Score_Difference', 'Total_Score', 'Game_Age'],\n",
       "      dtype='object')"
      ]
     },
     "execution_count": 51,
     "metadata": {},
     "output_type": "execute_result"
    }
   ],
   "source": [
    "negative_sales = df[df['Global_Sales'] < 0]\n",
    "if not negative_sales.empty:\n",
    "    mean_sales = df[df['Global_Sales'] >= 0]['Global_Sales'].mean()\n",
    "    df['Global_Sales'] = df['Global_Sales'].apply(lambda x: mean_sales if x < 0 else x)\n",
    "\n",
    "\n",
    "## Sales ratio by region\n",
    "df['Sales_Per_User'] = df['Global_Sales'] / df['User_Count']\n",
    "df['NA_Sales_Ratio'] = df['NA_Sales'] / df['Global_Sales']\n",
    "df['EU_Sales_Ratio'] = df['EU_Sales'] / df['Global_Sales']\n",
    "df['JP_Sales_Ratio'] = df['JP_Sales'] / df['Global_Sales']\n",
    "df['Other_Sales_Ratio'] = df['Other_Sales'] / df['Global_Sales']\n",
    "# Multiply user ratings by 10 to have a similar scale to critic ratings\n",
    "\n",
    "df['Score_Difference'] = df['Critic_Score'] - df['User_Score'] * 10  \n",
    "## Calculates the weighted average of user ratings and critic ratings to get a composite rating.\n",
    "critic_weight = 0.6  \n",
    "user_weight = 0.4\n",
    "df['Total_Score'] = (df['Critic_Score'] * critic_weight) + (df['User_Score'] * 10 * user_weight)\n",
    "\n",
    "## Game age\n",
    "current_year = 2023\n",
    "df['Game_Age'] = current_year - df['Year_of_Release']\n",
    "\n",
    "\n",
    "df.columns\n"
   ]
  },
  {
   "cell_type": "code",
   "execution_count": 52,
   "metadata": {},
   "outputs": [],
   "source": [
    "df['Platform_Publisher'] = df['Platform'] + '_' + df['Publisher']\n",
    "df['Score_Percentage_Difference'] = (df['Critic_Score'] - df['User_Score'] * 10) / df['Critic_Score'] * 100\n",
    "df['Normalized_Critic_Score'] = (df['Critic_Score'] - df['Critic_Score'].min()) / (df['Critic_Score'].max() - df['Critic_Score'].min())\n",
    "df['Normalized_User_Score'] = (df['User_Score'] - df['User_Score'].min()) / (df['User_Score'].max() - df['User_Score'].min())\n",
    "df['Sales_Critic_Score_Ratio'] = df['Global_Sales'] / df['Critic_Score']\n",
    "df['Sales_User_Score_Ratio'] = df['Global_Sales'] / (df['User_Score'] * 10)\n"
   ]
  },
  {
   "cell_type": "code",
   "execution_count": 53,
   "metadata": {},
   "outputs": [],
   "source": [
    "## Normalize numeric features:\n",
    "num_features = ['NA_Sales', 'EU_Sales', 'JP_Sales', 'Other_Sales', 'Global_Sales', 'Critic_Score', 'Critic_Count', 'User_Score', 'User_Count', 'Sales_Per_User']\n",
    "scaler = StandardScaler()\n",
    "df[num_features] = scaler.fit_transform(df[num_features])\n",
    "## Group by game name and apply an aggregate function to combine duplicate game entries into a single entry\n",
    "df.sort_values('Global_Sales', ascending=False, inplace=True)\n",
    "\n",
    "\n",
    "\n",
    "\n"
   ]
  },
  {
   "cell_type": "code",
   "execution_count": 54,
   "metadata": {},
   "outputs": [],
   "source": [
    "# 检查各个地区销售额是否为 0\n",
    "zero_sales = df[(df[\"NA_Sales\"] == 0) & (df[\"EU_Sales\"] == 0) & (df[\"JP_Sales\"] == 0) & (df[\"Other_Sales\"] == 0)]\n",
    "print(\"销售额为 0 的记录：\\n\", zero_sales)\n",
    "\n",
    "# 如果存在销售额为 0 的记录，可以选择删除\n",
    "if not zero_sales.empty:\n",
    "    df = df[~((df[\"NA_Sales\"] == 0) & (df[\"EU_Sales\"] == 0) & (df[\"JP_Sales\"] == 0) & (df[\"Other_Sales\"] == 0))]\n",
    "\n",
    "cleaned_csv_filename = \"C:/Users/Yi Yang/Documents/Dsci521/cleaned_vgames_data.csv\" \n",
    "df.to_csv(cleaned_csv_filename, index=False)"
   ]
  }
 ],
 "metadata": {
  "kernelspec": {
   "display_name": "Python 3",
   "language": "python",
   "name": "python3"
  },
  "language_info": {
   "codemirror_mode": {
    "name": "ipython",
    "version": 3
   },
   "file_extension": ".py",
   "mimetype": "text/x-python",
   "name": "python",
   "nbconvert_exporter": "python",
   "pygments_lexer": "ipython3",
   "version": "3.9.6"
  },
  "orig_nbformat": 4,
  "vscode": {
   "interpreter": {
    "hash": "d88f3c9d29c5e3ad40029fc774565dfcb1a2c81b948046f142aa9859c527c7e8"
   }
  }
 },
 "nbformat": 4,
 "nbformat_minor": 2
}
